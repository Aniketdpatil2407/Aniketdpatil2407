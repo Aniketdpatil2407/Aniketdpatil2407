{
  "nbformat": 4,
  "nbformat_minor": 0,
  "metadata": {
    "colab": {
      "provenance": [],
      "authorship_tag": "ABX9TyPumBNnXYNisGF5nC7KSN1i",
      "include_colab_link": true
    },
    "kernelspec": {
      "name": "python3",
      "display_name": "Python 3"
    },
    "language_info": {
      "name": "python"
    }
  },
  "cells": [
    {
      "cell_type": "markdown",
      "metadata": {
        "id": "view-in-github",
        "colab_type": "text"
      },
      "source": [
        "<a href=\"https://colab.research.google.com/github/Aniketdpatil2407/Aniketdpatil2407/blob/main/stock_LSTM.ipynb\" target=\"_parent\"><img src=\"https://colab.research.google.com/assets/colab-badge.svg\" alt=\"Open In Colab\"/></a>"
      ]
    },
    {
      "cell_type": "code",
      "execution_count": 3,
      "metadata": {
        "id": "W-JO6CyTsR7I"
      },
      "outputs": [],
      "source": [
        "import yfinance as yf"
      ]
    },
    {
      "cell_type": "code",
      "source": [
        "#See the yahoo finance ticker for your stock symbol\n",
        "stock_symbol= 'INFY'"
      ],
      "metadata": {
        "id": "bP0GPQStstV8"
      },
      "execution_count": 6,
      "outputs": []
    },
    {
      "cell_type": "code",
      "source": [
        "#last 6 years data with interval of 1 day\n",
        "data = yf.download(tickers=stock_symbol,period='6y',interval='1d')"
      ],
      "metadata": {
        "colab": {
          "base_uri": "https://localhost:8080/"
        },
        "id": "Yh-0fel-s2dJ",
        "outputId": "684b4f11-46fc-4986-c09b-22f67422124d"
      },
      "execution_count": 8,
      "outputs": [
        {
          "output_type": "stream",
          "name": "stdout",
          "text": [
            "\r[*********************100%***********************]  1 of 1 completed\n"
          ]
        }
      ]
    },
    {
      "cell_type": "code",
      "source": [
        "type(data)"
      ],
      "metadata": {
        "colab": {
          "base_uri": "https://localhost:8080/"
        },
        "id": "apcSb20NtIWI",
        "outputId": "11b656ba-7fd6-4392-e67f-b1d3fc6ece8d"
      },
      "execution_count": 9,
      "outputs": [
        {
          "output_type": "execute_result",
          "data": {
            "text/plain": [
              "pandas.core.frame.DataFrame"
            ]
          },
          "metadata": {},
          "execution_count": 9
        }
      ]
    },
    {
      "cell_type": "code",
      "source": [
        "data.head()"
      ],
      "metadata": {
        "colab": {
          "base_uri": "https://localhost:8080/",
          "height": 215
        },
        "id": "VcYbYhMdtVNr",
        "outputId": "7b7e1748-cb55-4a90-88d2-4c1d8c760bb4"
      },
      "execution_count": 10,
      "outputs": [
        {
          "output_type": "execute_result",
          "data": {
            "text/plain": [
              "             Open   High   Low  Close  Adj Close    Volume\n",
              "Date                                                      \n",
              "2016-12-16  7.495  7.540  7.40  7.450   6.338472  10166800\n",
              "2016-12-19  7.460  7.485  7.42  7.435   6.325711   4106400\n",
              "2016-12-20  7.455  7.475  7.43  7.465   6.351234   6409200\n",
              "2016-12-21  7.450  7.485  7.42  7.485   6.368251   4951800\n",
              "2016-12-22  7.360  7.425  7.29  7.400   6.295932   5821400"
            ],
            "text/html": [
              "\n",
              "  <div id=\"df-ca90727e-35a0-4ad1-9638-9273bdfe02c6\">\n",
              "    <div class=\"colab-df-container\">\n",
              "      <div>\n",
              "<style scoped>\n",
              "    .dataframe tbody tr th:only-of-type {\n",
              "        vertical-align: middle;\n",
              "    }\n",
              "\n",
              "    .dataframe tbody tr th {\n",
              "        vertical-align: top;\n",
              "    }\n",
              "\n",
              "    .dataframe thead th {\n",
              "        text-align: right;\n",
              "    }\n",
              "</style>\n",
              "<table border=\"1\" class=\"dataframe\">\n",
              "  <thead>\n",
              "    <tr style=\"text-align: right;\">\n",
              "      <th></th>\n",
              "      <th>Open</th>\n",
              "      <th>High</th>\n",
              "      <th>Low</th>\n",
              "      <th>Close</th>\n",
              "      <th>Adj Close</th>\n",
              "      <th>Volume</th>\n",
              "    </tr>\n",
              "    <tr>\n",
              "      <th>Date</th>\n",
              "      <th></th>\n",
              "      <th></th>\n",
              "      <th></th>\n",
              "      <th></th>\n",
              "      <th></th>\n",
              "      <th></th>\n",
              "    </tr>\n",
              "  </thead>\n",
              "  <tbody>\n",
              "    <tr>\n",
              "      <th>2016-12-16</th>\n",
              "      <td>7.495</td>\n",
              "      <td>7.540</td>\n",
              "      <td>7.40</td>\n",
              "      <td>7.450</td>\n",
              "      <td>6.338472</td>\n",
              "      <td>10166800</td>\n",
              "    </tr>\n",
              "    <tr>\n",
              "      <th>2016-12-19</th>\n",
              "      <td>7.460</td>\n",
              "      <td>7.485</td>\n",
              "      <td>7.42</td>\n",
              "      <td>7.435</td>\n",
              "      <td>6.325711</td>\n",
              "      <td>4106400</td>\n",
              "    </tr>\n",
              "    <tr>\n",
              "      <th>2016-12-20</th>\n",
              "      <td>7.455</td>\n",
              "      <td>7.475</td>\n",
              "      <td>7.43</td>\n",
              "      <td>7.465</td>\n",
              "      <td>6.351234</td>\n",
              "      <td>6409200</td>\n",
              "    </tr>\n",
              "    <tr>\n",
              "      <th>2016-12-21</th>\n",
              "      <td>7.450</td>\n",
              "      <td>7.485</td>\n",
              "      <td>7.42</td>\n",
              "      <td>7.485</td>\n",
              "      <td>6.368251</td>\n",
              "      <td>4951800</td>\n",
              "    </tr>\n",
              "    <tr>\n",
              "      <th>2016-12-22</th>\n",
              "      <td>7.360</td>\n",
              "      <td>7.425</td>\n",
              "      <td>7.29</td>\n",
              "      <td>7.400</td>\n",
              "      <td>6.295932</td>\n",
              "      <td>5821400</td>\n",
              "    </tr>\n",
              "  </tbody>\n",
              "</table>\n",
              "</div>\n",
              "      <button class=\"colab-df-convert\" onclick=\"convertToInteractive('df-ca90727e-35a0-4ad1-9638-9273bdfe02c6')\"\n",
              "              title=\"Convert this dataframe to an interactive table.\"\n",
              "              style=\"display:none;\">\n",
              "        \n",
              "  <svg xmlns=\"http://www.w3.org/2000/svg\" height=\"24px\"viewBox=\"0 0 24 24\"\n",
              "       width=\"24px\">\n",
              "    <path d=\"M0 0h24v24H0V0z\" fill=\"none\"/>\n",
              "    <path d=\"M18.56 5.44l.94 2.06.94-2.06 2.06-.94-2.06-.94-.94-2.06-.94 2.06-2.06.94zm-11 1L8.5 8.5l.94-2.06 2.06-.94-2.06-.94L8.5 2.5l-.94 2.06-2.06.94zm10 10l.94 2.06.94-2.06 2.06-.94-2.06-.94-.94-2.06-.94 2.06-2.06.94z\"/><path d=\"M17.41 7.96l-1.37-1.37c-.4-.4-.92-.59-1.43-.59-.52 0-1.04.2-1.43.59L10.3 9.45l-7.72 7.72c-.78.78-.78 2.05 0 2.83L4 21.41c.39.39.9.59 1.41.59.51 0 1.02-.2 1.41-.59l7.78-7.78 2.81-2.81c.8-.78.8-2.07 0-2.86zM5.41 20L4 18.59l7.72-7.72 1.47 1.35L5.41 20z\"/>\n",
              "  </svg>\n",
              "      </button>\n",
              "      \n",
              "  <style>\n",
              "    .colab-df-container {\n",
              "      display:flex;\n",
              "      flex-wrap:wrap;\n",
              "      gap: 12px;\n",
              "    }\n",
              "\n",
              "    .colab-df-convert {\n",
              "      background-color: #E8F0FE;\n",
              "      border: none;\n",
              "      border-radius: 50%;\n",
              "      cursor: pointer;\n",
              "      display: none;\n",
              "      fill: #1967D2;\n",
              "      height: 32px;\n",
              "      padding: 0 0 0 0;\n",
              "      width: 32px;\n",
              "    }\n",
              "\n",
              "    .colab-df-convert:hover {\n",
              "      background-color: #E2EBFA;\n",
              "      box-shadow: 0px 1px 2px rgba(60, 64, 67, 0.3), 0px 1px 3px 1px rgba(60, 64, 67, 0.15);\n",
              "      fill: #174EA6;\n",
              "    }\n",
              "\n",
              "    [theme=dark] .colab-df-convert {\n",
              "      background-color: #3B4455;\n",
              "      fill: #D2E3FC;\n",
              "    }\n",
              "\n",
              "    [theme=dark] .colab-df-convert:hover {\n",
              "      background-color: #434B5C;\n",
              "      box-shadow: 0px 1px 3px 1px rgba(0, 0, 0, 0.15);\n",
              "      filter: drop-shadow(0px 1px 2px rgba(0, 0, 0, 0.3));\n",
              "      fill: #FFFFFF;\n",
              "    }\n",
              "  </style>\n",
              "\n",
              "      <script>\n",
              "        const buttonEl =\n",
              "          document.querySelector('#df-ca90727e-35a0-4ad1-9638-9273bdfe02c6 button.colab-df-convert');\n",
              "        buttonEl.style.display =\n",
              "          google.colab.kernel.accessAllowed ? 'block' : 'none';\n",
              "\n",
              "        async function convertToInteractive(key) {\n",
              "          const element = document.querySelector('#df-ca90727e-35a0-4ad1-9638-9273bdfe02c6');\n",
              "          const dataTable =\n",
              "            await google.colab.kernel.invokeFunction('convertToInteractive',\n",
              "                                                     [key], {});\n",
              "          if (!dataTable) return;\n",
              "\n",
              "          const docLinkHtml = 'Like what you see? Visit the ' +\n",
              "            '<a target=\"_blank\" href=https://colab.research.google.com/notebooks/data_table.ipynb>data table notebook</a>'\n",
              "            + ' to learn more about interactive tables.';\n",
              "          element.innerHTML = '';\n",
              "          dataTable['output_type'] = 'display_data';\n",
              "          await google.colab.output.renderOutput(dataTable, element);\n",
              "          const docLink = document.createElement('div');\n",
              "          docLink.innerHTML = docLinkHtml;\n",
              "          element.appendChild(docLink);\n",
              "        }\n",
              "      </script>\n",
              "    </div>\n",
              "  </div>\n",
              "  "
            ]
          },
          "metadata": {},
          "execution_count": 10
        }
      ]
    },
    {
      "cell_type": "code",
      "source": [
        "len(data)"
      ],
      "metadata": {
        "colab": {
          "base_uri": "https://localhost:8080/"
        },
        "id": "R_7CJedJtXAY",
        "outputId": "627c0df8-e4b6-4923-f054-9ce38e64c2dd"
      },
      "execution_count": 11,
      "outputs": [
        {
          "output_type": "execute_result",
          "data": {
            "text/plain": [
              "1511"
            ]
          },
          "metadata": {},
          "execution_count": 11
        }
      ]
    },
    {
      "cell_type": "code",
      "source": [
        "data.tail()"
      ],
      "metadata": {
        "colab": {
          "base_uri": "https://localhost:8080/",
          "height": 215
        },
        "id": "OBveQ62FteM4",
        "outputId": "29665bfe-2fce-4537-86b0-896ff32b6c00"
      },
      "execution_count": 12,
      "outputs": [
        {
          "output_type": "execute_result",
          "data": {
            "text/plain": [
              "                 Open       High        Low      Close  Adj Close    Volume\n",
              "Date                                                                       \n",
              "2022-12-12  18.490000  18.530001  18.360001  18.410000  18.410000   6741000\n",
              "2022-12-13  19.010000  19.150000  18.629999  18.730000  18.730000  13184600\n",
              "2022-12-14  18.750000  18.969999  18.600000  18.719999  18.719999   7721700\n",
              "2022-12-15  18.330000  18.360001  18.010000  18.170000  18.170000   6568600\n",
              "2022-12-16  18.110001  18.215000  17.975000  17.976000  17.976000   3412151"
            ],
            "text/html": [
              "\n",
              "  <div id=\"df-c84b5546-82ea-4ade-acdc-af1e9507f2eb\">\n",
              "    <div class=\"colab-df-container\">\n",
              "      <div>\n",
              "<style scoped>\n",
              "    .dataframe tbody tr th:only-of-type {\n",
              "        vertical-align: middle;\n",
              "    }\n",
              "\n",
              "    .dataframe tbody tr th {\n",
              "        vertical-align: top;\n",
              "    }\n",
              "\n",
              "    .dataframe thead th {\n",
              "        text-align: right;\n",
              "    }\n",
              "</style>\n",
              "<table border=\"1\" class=\"dataframe\">\n",
              "  <thead>\n",
              "    <tr style=\"text-align: right;\">\n",
              "      <th></th>\n",
              "      <th>Open</th>\n",
              "      <th>High</th>\n",
              "      <th>Low</th>\n",
              "      <th>Close</th>\n",
              "      <th>Adj Close</th>\n",
              "      <th>Volume</th>\n",
              "    </tr>\n",
              "    <tr>\n",
              "      <th>Date</th>\n",
              "      <th></th>\n",
              "      <th></th>\n",
              "      <th></th>\n",
              "      <th></th>\n",
              "      <th></th>\n",
              "      <th></th>\n",
              "    </tr>\n",
              "  </thead>\n",
              "  <tbody>\n",
              "    <tr>\n",
              "      <th>2022-12-12</th>\n",
              "      <td>18.490000</td>\n",
              "      <td>18.530001</td>\n",
              "      <td>18.360001</td>\n",
              "      <td>18.410000</td>\n",
              "      <td>18.410000</td>\n",
              "      <td>6741000</td>\n",
              "    </tr>\n",
              "    <tr>\n",
              "      <th>2022-12-13</th>\n",
              "      <td>19.010000</td>\n",
              "      <td>19.150000</td>\n",
              "      <td>18.629999</td>\n",
              "      <td>18.730000</td>\n",
              "      <td>18.730000</td>\n",
              "      <td>13184600</td>\n",
              "    </tr>\n",
              "    <tr>\n",
              "      <th>2022-12-14</th>\n",
              "      <td>18.750000</td>\n",
              "      <td>18.969999</td>\n",
              "      <td>18.600000</td>\n",
              "      <td>18.719999</td>\n",
              "      <td>18.719999</td>\n",
              "      <td>7721700</td>\n",
              "    </tr>\n",
              "    <tr>\n",
              "      <th>2022-12-15</th>\n",
              "      <td>18.330000</td>\n",
              "      <td>18.360001</td>\n",
              "      <td>18.010000</td>\n",
              "      <td>18.170000</td>\n",
              "      <td>18.170000</td>\n",
              "      <td>6568600</td>\n",
              "    </tr>\n",
              "    <tr>\n",
              "      <th>2022-12-16</th>\n",
              "      <td>18.110001</td>\n",
              "      <td>18.215000</td>\n",
              "      <td>17.975000</td>\n",
              "      <td>17.976000</td>\n",
              "      <td>17.976000</td>\n",
              "      <td>3412151</td>\n",
              "    </tr>\n",
              "  </tbody>\n",
              "</table>\n",
              "</div>\n",
              "      <button class=\"colab-df-convert\" onclick=\"convertToInteractive('df-c84b5546-82ea-4ade-acdc-af1e9507f2eb')\"\n",
              "              title=\"Convert this dataframe to an interactive table.\"\n",
              "              style=\"display:none;\">\n",
              "        \n",
              "  <svg xmlns=\"http://www.w3.org/2000/svg\" height=\"24px\"viewBox=\"0 0 24 24\"\n",
              "       width=\"24px\">\n",
              "    <path d=\"M0 0h24v24H0V0z\" fill=\"none\"/>\n",
              "    <path d=\"M18.56 5.44l.94 2.06.94-2.06 2.06-.94-2.06-.94-.94-2.06-.94 2.06-2.06.94zm-11 1L8.5 8.5l.94-2.06 2.06-.94-2.06-.94L8.5 2.5l-.94 2.06-2.06.94zm10 10l.94 2.06.94-2.06 2.06-.94-2.06-.94-.94-2.06-.94 2.06-2.06.94z\"/><path d=\"M17.41 7.96l-1.37-1.37c-.4-.4-.92-.59-1.43-.59-.52 0-1.04.2-1.43.59L10.3 9.45l-7.72 7.72c-.78.78-.78 2.05 0 2.83L4 21.41c.39.39.9.59 1.41.59.51 0 1.02-.2 1.41-.59l7.78-7.78 2.81-2.81c.8-.78.8-2.07 0-2.86zM5.41 20L4 18.59l7.72-7.72 1.47 1.35L5.41 20z\"/>\n",
              "  </svg>\n",
              "      </button>\n",
              "      \n",
              "  <style>\n",
              "    .colab-df-container {\n",
              "      display:flex;\n",
              "      flex-wrap:wrap;\n",
              "      gap: 12px;\n",
              "    }\n",
              "\n",
              "    .colab-df-convert {\n",
              "      background-color: #E8F0FE;\n",
              "      border: none;\n",
              "      border-radius: 50%;\n",
              "      cursor: pointer;\n",
              "      display: none;\n",
              "      fill: #1967D2;\n",
              "      height: 32px;\n",
              "      padding: 0 0 0 0;\n",
              "      width: 32px;\n",
              "    }\n",
              "\n",
              "    .colab-df-convert:hover {\n",
              "      background-color: #E2EBFA;\n",
              "      box-shadow: 0px 1px 2px rgba(60, 64, 67, 0.3), 0px 1px 3px 1px rgba(60, 64, 67, 0.15);\n",
              "      fill: #174EA6;\n",
              "    }\n",
              "\n",
              "    [theme=dark] .colab-df-convert {\n",
              "      background-color: #3B4455;\n",
              "      fill: #D2E3FC;\n",
              "    }\n",
              "\n",
              "    [theme=dark] .colab-df-convert:hover {\n",
              "      background-color: #434B5C;\n",
              "      box-shadow: 0px 1px 3px 1px rgba(0, 0, 0, 0.15);\n",
              "      filter: drop-shadow(0px 1px 2px rgba(0, 0, 0, 0.3));\n",
              "      fill: #FFFFFF;\n",
              "    }\n",
              "  </style>\n",
              "\n",
              "      <script>\n",
              "        const buttonEl =\n",
              "          document.querySelector('#df-c84b5546-82ea-4ade-acdc-af1e9507f2eb button.colab-df-convert');\n",
              "        buttonEl.style.display =\n",
              "          google.colab.kernel.accessAllowed ? 'block' : 'none';\n",
              "\n",
              "        async function convertToInteractive(key) {\n",
              "          const element = document.querySelector('#df-c84b5546-82ea-4ade-acdc-af1e9507f2eb');\n",
              "          const dataTable =\n",
              "            await google.colab.kernel.invokeFunction('convertToInteractive',\n",
              "                                                     [key], {});\n",
              "          if (!dataTable) return;\n",
              "\n",
              "          const docLinkHtml = 'Like what you see? Visit the ' +\n",
              "            '<a target=\"_blank\" href=https://colab.research.google.com/notebooks/data_table.ipynb>data table notebook</a>'\n",
              "            + ' to learn more about interactive tables.';\n",
              "          element.innerHTML = '';\n",
              "          dataTable['output_type'] = 'display_data';\n",
              "          await google.colab.output.renderOutput(dataTable, element);\n",
              "          const docLink = document.createElement('div');\n",
              "          docLink.innerHTML = docLinkHtml;\n",
              "          element.appendChild(docLink);\n",
              "        }\n",
              "      </script>\n",
              "    </div>\n",
              "  </div>\n",
              "  "
            ]
          },
          "metadata": {},
          "execution_count": 12
        }
      ]
    },
    {
      "cell_type": "code",
      "source": [
        "opn = data[['Open']]"
      ],
      "metadata": {
        "id": "tK8kbp4-tjOE"
      },
      "execution_count": 13,
      "outputs": []
    },
    {
      "cell_type": "code",
      "source": [
        "opn.plot()"
      ],
      "metadata": {
        "colab": {
          "base_uri": "https://localhost:8080/",
          "height": 286
        },
        "id": "QZforbZgtoBC",
        "outputId": "bfb19097-30fc-4a55-cae0-b09029941d51"
      },
      "execution_count": 14,
      "outputs": [
        {
          "output_type": "execute_result",
          "data": {
            "text/plain": [
              "<matplotlib.axes._subplots.AxesSubplot at 0x7f59c62dac10>"
            ]
          },
          "metadata": {},
          "execution_count": 14
        },
        {
          "output_type": "display_data",
          "data": {
            "text/plain": [
              "<Figure size 432x288 with 1 Axes>"
            ],
            "image/png": "[encoded data removed]"
          },
          "metadata": {
            "needs_background": "light"
          }
        }
      ]
    },
    {
      "cell_type": "code",
      "source": [
        "import matplotlib.pyplot as plt"
      ],
      "metadata": {
        "id": "j-ygesWOtslE"
      },
      "execution_count": 15,
      "outputs": []
    },
    {
      "cell_type": "code",
      "source": [
        "ds = opn.values"
      ],
      "metadata": {
        "id": "Ar5MCaLjtwgE"
      },
      "execution_count": 16,
      "outputs": []
    },
    {
      "cell_type": "code",
      "source": [
        "plt.plot(ds)"
      ],
      "metadata": {
        "colab": {
          "base_uri": "https://localhost:8080/",
          "height": 282
        },
        "id": "K1cqQXaytzVp",
        "outputId": "66bc84e7-ef89-4385-a492-45ae9219167c"
      },
      "execution_count": 17,
      "outputs": [
        {
          "output_type": "execute_result",
          "data": {
            "text/plain": [
              "[<matplotlib.lines.Line2D at 0x7f59c5d42d60>]"
            ]
          },
          "metadata": {},
          "execution_count": 17
        },
        {
          "output_type": "display_data",
          "data": {
            "text/plain": [
              "<Figure size 432x288 with 1 Axes>"
            ],
            "image/png": "[encoded data removed]"
          },
          "metadata": {
            "needs_background": "light"
          }
        }
      ]
    },
    {
      "cell_type": "code",
      "source": [
        "import numpy as np"
      ],
      "metadata": {
        "id": "DaVjyDnat2lq"
      },
      "execution_count": 18,
      "outputs": []
    },
    {
      "cell_type": "code",
      "source": [
        "from sklearn.preprocessing import MinMaxScaler"
      ],
      "metadata": {
        "id": "57jNC0LZt648"
      },
      "execution_count": 19,
      "outputs": []
    },
    {
      "cell_type": "code",
      "source": [
        "#Using MinMaxScaler for normalizing data between 0 & 1\n",
        "normalizer = MinMaxScaler(feature_range=(0,1))\n",
        "ds_scaled = normalizer.fit_transform(np.array(ds).reshape(-1,1))"
      ],
      "metadata": {
        "id": "FYNJHQuvt_e6"
      },
      "execution_count": 20,
      "outputs": []
    },
    {
      "cell_type": "code",
      "source": [
        "len(ds_scaled), len(ds)"
      ],
      "metadata": {
        "colab": {
          "base_uri": "https://localhost:8080/"
        },
        "id": "OYtIe6pAuDqB",
        "outputId": "04d489ec-331a-4339-8ef4-7af2ac782f2f"
      },
      "execution_count": 21,
      "outputs": [
        {
          "output_type": "execute_result",
          "data": {
            "text/plain": [
              "(1511, 1511)"
            ]
          },
          "metadata": {},
          "execution_count": 21
        }
      ]
    },
    {
      "cell_type": "code",
      "source": [
        "#Defining test and train data sizes\n",
        "train_size = int(len(ds_scaled)*0.70)\n",
        "test_size = len(ds_scaled) - train_size"
      ],
      "metadata": {
        "id": "-5FiG22JuHC-"
      },
      "execution_count": 22,
      "outputs": []
    },
    {
      "cell_type": "code",
      "source": [
        "train_size,test_size"
      ],
      "metadata": {
        "colab": {
          "base_uri": "https://localhost:8080/"
        },
        "id": "uI_R4u4auKWV",
        "outputId": "9cb2f1b1-1bca-43c7-e3cc-97510f006a05"
      },
      "execution_count": 23,
      "outputs": [
        {
          "output_type": "execute_result",
          "data": {
            "text/plain": [
              "(1057, 454)"
            ]
          },
          "metadata": {},
          "execution_count": 23
        }
      ]
    },
    {
      "cell_type": "code",
      "source": [
        "#Splitting data between train and test\n",
        "ds_train, ds_test = ds_scaled[0:train_size,:], ds_scaled[train_size:len(ds_scaled),:1]"
      ],
      "metadata": {
        "id": "K4FjzcJKuVJy"
      },
      "execution_count": 24,
      "outputs": []
    },
    {
      "cell_type": "code",
      "source": [
        "len(ds_train),len(ds_test)"
      ],
      "metadata": {
        "colab": {
          "base_uri": "https://localhost:8080/"
        },
        "id": "UcAb0eytubpl",
        "outputId": "e478eab3-10ad-4ba9-c364-ff967b4c01ed"
      },
      "execution_count": 25,
      "outputs": [
        {
          "output_type": "execute_result",
          "data": {
            "text/plain": [
              "(1057, 454)"
            ]
          },
          "metadata": {},
          "execution_count": 25
        }
      ]
    },
    {
      "cell_type": "code",
      "source": [
        "#creating dataset in time series for LSTM model \n",
        "#X[100,120,140,160,180] : Y[200]\n",
        "def create_ds(dataset,step):\n",
        "    Xtrain, Ytrain = [], []\n",
        "    for i in range(len(dataset)-step-1):\n",
        "        a = dataset[i:(i+step), 0]\n",
        "        Xtrain.append(a)\n",
        "        Ytrain.append(dataset[i + step, 0])\n",
        "    return np.array(Xtrain), np.array(Ytrain)"
      ],
      "metadata": {
        "id": "d183JVikufFr"
      },
      "execution_count": 26,
      "outputs": []
    },
    {
      "cell_type": "code",
      "source": [
        "#Taking 100 days price as one record for training\n",
        "time_stamp = 100\n",
        "X_train, y_train = create_ds(ds_train,time_stamp)\n",
        "X_test, y_test = create_ds(ds_test,time_stamp)"
      ],
      "metadata": {
        "id": "S1rZICn0ui1W"
      },
      "execution_count": 27,
      "outputs": []
    },
    {
      "cell_type": "code",
      "source": [
        "X_train.shape,y_train.shape"
      ],
      "metadata": {
        "colab": {
          "base_uri": "https://localhost:8080/"
        },
        "id": "qTpzxJK5unb6",
        "outputId": "4715f0a6-e47c-4b62-8e39-aa6626baaa73"
      },
      "execution_count": 28,
      "outputs": [
        {
          "output_type": "execute_result",
          "data": {
            "text/plain": [
              "((956, 100), (956,))"
            ]
          },
          "metadata": {},
          "execution_count": 28
        }
      ]
    },
    {
      "cell_type": "code",
      "source": [
        "X_test.shape, y_test.shape"
      ],
      "metadata": {
        "colab": {
          "base_uri": "https://localhost:8080/"
        },
        "id": "uL0cX6V4urqz",
        "outputId": "c5404a39-5066-4c89-c587-d0ba67fc47bd"
      },
      "execution_count": 29,
      "outputs": [
        {
          "output_type": "execute_result",
          "data": {
            "text/plain": [
              "((353, 100), (353,))"
            ]
          },
          "metadata": {},
          "execution_count": 29
        }
      ]
    },
    {
      "cell_type": "code",
      "source": [
        "#Reshaping data to fit into LSTM model\n",
        "X_train = X_train.reshape(X_train.shape[0],X_train.shape[1] , 1)\n",
        "X_test = X_test.reshape(X_test.shape[0],X_test.shape[1] , 1)"
      ],
      "metadata": {
        "id": "g_7KkUVruw-p"
      },
      "execution_count": 30,
      "outputs": []
    },
    {
      "cell_type": "code",
      "source": [
        "from keras.models import Sequential\n",
        "from keras.layers import Dense, LSTM\n"
      ],
      "metadata": {
        "id": "HlYlI5BQu2mp"
      },
      "execution_count": 31,
      "outputs": []
    },
    {
      "cell_type": "code",
      "source": [
        "#Creating LSTM model using keras\n",
        "model = Sequential()\n",
        "model.add(LSTM(units=50,return_sequences=True,input_shape=(X_train.shape[1],1)))\n",
        "model.add(LSTM(units=50,return_sequences=True))\n",
        "model.add(LSTM(units=50))\n",
        "model.add(Dense(units=1,activation='linear'))\n",
        "model.summary()"
      ],
      "metadata": {
        "colab": {
          "base_uri": "https://localhost:8080/"
        },
        "id": "IG4Mxblju5mM",
        "outputId": "e548dccb-df39-4d74-dccb-35c1548d81ce"
      },
      "execution_count": 32,
      "outputs": [
        {
          "output_type": "stream",
          "name": "stdout",
          "text": [
            "Model: \"sequential\"\n",
            "_________________________________________________________________\n",
            " Layer (type)                Output Shape              Param #   \n",
            "=================================================================\n",
            " lstm (LSTM)                 (None, 100, 50)           10400     \n",
            "                                                                 \n",
            " lstm_1 (LSTM)               (None, 100, 50)           20200     \n",
            "                                                                 \n",
            " lstm_2 (LSTM)               (None, 50)                20200     \n",
            "                                                                 \n",
            " dense (Dense)               (None, 1)                 51        \n",
            "                                                                 \n",
            "=================================================================\n",
            "Total params: 50,851\n",
            "Trainable params: 50,851\n",
            "Non-trainable params: 0\n",
            "_________________________________________________________________\n"
          ]
        }
      ]
    },
    {
      "cell_type": "code",
      "source": [
        "#Training model with adam optimizer and mean squared error loss function\n",
        "model.compile(loss='mean_squared_error',optimizer='adam')\n",
        "model.fit(X_train,y_train,validation_data=(X_test,y_test),epochs=100,batch_size=64)"
      ],
      "metadata": {
        "colab": {
          "base_uri": "https://localhost:8080/"
        },
        "id": "GIFDcF5nu-x0",
        "outputId": "b6408a48-a211-448f-b79b-2b89182ecdbf"
      },
      "execution_count": 33,
      "outputs": [
        {
          "output_type": "stream",
          "name": "stdout",
          "text": [
            "Epoch 1/100\n",
            "15/15 [==============================] - 12s 298ms/step - loss: 0.0113 - val_loss: 0.0510\n",
            "Epoch 2/100\n",
            "15/15 [==============================] - 3s 197ms/step - loss: 0.0020 - val_loss: 0.0041\n",
            "Epoch 3/100\n",
            "15/15 [==============================] - 3s 194ms/step - loss: 0.0015 - val_loss: 0.0045\n",
            "Epoch 4/100\n",
            "15/15 [==============================] - 3s 194ms/step - loss: 0.0011 - val_loss: 0.0035\n",
            "Epoch 5/100\n",
            "15/15 [==============================] - 3s 194ms/step - loss: 9.4810e-04 - val_loss: 0.0034\n",
            "Epoch 6/100\n",
            "15/15 [==============================] - 3s 196ms/step - loss: 9.1786e-04 - val_loss: 0.0033\n",
            "Epoch 7/100\n",
            "15/15 [==============================] - 3s 192ms/step - loss: 8.7552e-04 - val_loss: 0.0048\n",
            "Epoch 8/100\n",
            "15/15 [==============================] - 3s 194ms/step - loss: 8.5790e-04 - val_loss: 0.0032\n",
            "Epoch 9/100\n",
            "15/15 [==============================] - 3s 196ms/step - loss: 8.4272e-04 - val_loss: 0.0028\n",
            "Epoch 10/100\n",
            "15/15 [==============================] - 3s 194ms/step - loss: 7.6842e-04 - val_loss: 0.0035\n",
            "Epoch 11/100\n",
            "15/15 [==============================] - 3s 195ms/step - loss: 7.3053e-04 - val_loss: 0.0025\n",
            "Epoch 12/100\n",
            "15/15 [==============================] - 3s 195ms/step - loss: 6.8346e-04 - val_loss: 0.0024\n",
            "Epoch 13/100\n",
            "15/15 [==============================] - 3s 196ms/step - loss: 6.5887e-04 - val_loss: 0.0024\n",
            "Epoch 14/100\n",
            "15/15 [==============================] - 3s 194ms/step - loss: 6.3477e-04 - val_loss: 0.0021\n",
            "Epoch 15/100\n",
            "15/15 [==============================] - 3s 196ms/step - loss: 6.3743e-04 - val_loss: 0.0020\n",
            "Epoch 16/100\n",
            "15/15 [==============================] - 3s 195ms/step - loss: 6.1269e-04 - val_loss: 0.0020\n",
            "Epoch 17/100\n",
            "15/15 [==============================] - 3s 196ms/step - loss: 5.7857e-04 - val_loss: 0.0041\n",
            "Epoch 18/100\n",
            "15/15 [==============================] - 3s 195ms/step - loss: 6.1476e-04 - val_loss: 0.0025\n",
            "Epoch 19/100\n",
            "15/15 [==============================] - 3s 194ms/step - loss: 5.6371e-04 - val_loss: 0.0018\n",
            "Epoch 20/100\n",
            "15/15 [==============================] - 3s 196ms/step - loss: 5.1024e-04 - val_loss: 0.0017\n",
            "Epoch 21/100\n",
            "15/15 [==============================] - 3s 195ms/step - loss: 5.0564e-04 - val_loss: 0.0017\n",
            "Epoch 22/100\n",
            "15/15 [==============================] - 3s 194ms/step - loss: 4.8718e-04 - val_loss: 0.0016\n",
            "Epoch 23/100\n",
            "15/15 [==============================] - 3s 192ms/step - loss: 4.8000e-04 - val_loss: 0.0022\n",
            "Epoch 24/100\n",
            "15/15 [==============================] - 3s 198ms/step - loss: 5.0836e-04 - val_loss: 0.0020\n",
            "Epoch 25/100\n",
            "15/15 [==============================] - 3s 195ms/step - loss: 4.6242e-04 - val_loss: 0.0017\n",
            "Epoch 26/100\n",
            "15/15 [==============================] - 3s 195ms/step - loss: 4.5398e-04 - val_loss: 0.0024\n",
            "Epoch 27/100\n",
            "15/15 [==============================] - 3s 197ms/step - loss: 4.8434e-04 - val_loss: 0.0024\n",
            "Epoch 28/100\n",
            "15/15 [==============================] - 3s 195ms/step - loss: 4.3756e-04 - val_loss: 0.0016\n",
            "Epoch 29/100\n",
            "15/15 [==============================] - 3s 198ms/step - loss: 4.3794e-04 - val_loss: 0.0019\n",
            "Epoch 30/100\n",
            "15/15 [==============================] - 3s 198ms/step - loss: 4.5663e-04 - val_loss: 0.0015\n",
            "Epoch 31/100\n",
            "15/15 [==============================] - 4s 245ms/step - loss: 4.0129e-04 - val_loss: 0.0020\n",
            "Epoch 32/100\n",
            "15/15 [==============================] - 3s 209ms/step - loss: 3.9410e-04 - val_loss: 0.0016\n",
            "Epoch 33/100\n",
            "15/15 [==============================] - 3s 226ms/step - loss: 3.9997e-04 - val_loss: 0.0015\n",
            "Epoch 34/100\n",
            "15/15 [==============================] - 3s 198ms/step - loss: 4.1586e-04 - val_loss: 0.0013\n",
            "Epoch 35/100\n",
            "15/15 [==============================] - 3s 195ms/step - loss: 3.6526e-04 - val_loss: 0.0014\n",
            "Epoch 36/100\n",
            "15/15 [==============================] - 3s 194ms/step - loss: 3.7412e-04 - val_loss: 0.0025\n",
            "Epoch 37/100\n",
            "15/15 [==============================] - 3s 191ms/step - loss: 4.0702e-04 - val_loss: 0.0013\n",
            "Epoch 38/100\n",
            "15/15 [==============================] - 3s 198ms/step - loss: 3.5685e-04 - val_loss: 0.0012\n",
            "Epoch 39/100\n",
            "15/15 [==============================] - 3s 195ms/step - loss: 3.4107e-04 - val_loss: 0.0013\n",
            "Epoch 40/100\n",
            "15/15 [==============================] - 3s 197ms/step - loss: 4.1698e-04 - val_loss: 0.0016\n",
            "Epoch 41/100\n",
            "15/15 [==============================] - 3s 196ms/step - loss: 3.3803e-04 - val_loss: 0.0012\n",
            "Epoch 42/100\n",
            "15/15 [==============================] - 3s 197ms/step - loss: 3.4837e-04 - val_loss: 0.0027\n",
            "Epoch 43/100\n",
            "15/15 [==============================] - 3s 194ms/step - loss: 3.3423e-04 - val_loss: 0.0011\n",
            "Epoch 44/100\n",
            "15/15 [==============================] - 3s 197ms/step - loss: 3.0261e-04 - val_loss: 0.0014\n",
            "Epoch 45/100\n",
            "15/15 [==============================] - 3s 198ms/step - loss: 3.3348e-04 - val_loss: 0.0018\n",
            "Epoch 46/100\n",
            "15/15 [==============================] - 3s 197ms/step - loss: 3.1561e-04 - val_loss: 0.0011\n",
            "Epoch 47/100\n",
            "15/15 [==============================] - 3s 194ms/step - loss: 2.8943e-04 - val_loss: 0.0011\n",
            "Epoch 48/100\n",
            "15/15 [==============================] - 3s 196ms/step - loss: 2.8272e-04 - val_loss: 0.0011\n",
            "Epoch 49/100\n",
            "15/15 [==============================] - 3s 197ms/step - loss: 2.7423e-04 - val_loss: 0.0012\n",
            "Epoch 50/100\n",
            "15/15 [==============================] - 3s 196ms/step - loss: 2.7652e-04 - val_loss: 9.8948e-04\n",
            "Epoch 51/100\n",
            "15/15 [==============================] - 3s 195ms/step - loss: 2.6493e-04 - val_loss: 0.0015\n",
            "Epoch 52/100\n",
            "15/15 [==============================] - 3s 197ms/step - loss: 2.7924e-04 - val_loss: 0.0011\n",
            "Epoch 53/100\n",
            "15/15 [==============================] - 3s 196ms/step - loss: 2.5690e-04 - val_loss: 0.0011\n",
            "Epoch 54/100\n",
            "15/15 [==============================] - 3s 199ms/step - loss: 2.5095e-04 - val_loss: 9.4078e-04\n",
            "Epoch 55/100\n",
            "15/15 [==============================] - 3s 198ms/step - loss: 2.5238e-04 - val_loss: 9.4271e-04\n",
            "Epoch 56/100\n",
            "15/15 [==============================] - 3s 197ms/step - loss: 2.5307e-04 - val_loss: 8.7370e-04\n",
            "Epoch 57/100\n",
            "15/15 [==============================] - 3s 194ms/step - loss: 2.5042e-04 - val_loss: 9.6986e-04\n",
            "Epoch 58/100\n",
            "15/15 [==============================] - 3s 195ms/step - loss: 2.5424e-04 - val_loss: 0.0010\n",
            "Epoch 59/100\n",
            "15/15 [==============================] - 3s 196ms/step - loss: 2.4727e-04 - val_loss: 0.0012\n",
            "Epoch 60/100\n",
            "15/15 [==============================] - 3s 199ms/step - loss: 2.4790e-04 - val_loss: 7.6050e-04\n",
            "Epoch 61/100\n",
            "15/15 [==============================] - 3s 197ms/step - loss: 2.4988e-04 - val_loss: 8.0628e-04\n",
            "Epoch 62/100\n",
            "15/15 [==============================] - 3s 195ms/step - loss: 3.1183e-04 - val_loss: 9.2197e-04\n",
            "Epoch 63/100\n",
            "15/15 [==============================] - 3s 197ms/step - loss: 3.2087e-04 - val_loss: 8.7942e-04\n",
            "Epoch 64/100\n",
            "15/15 [==============================] - 3s 197ms/step - loss: 3.1096e-04 - val_loss: 8.7036e-04\n",
            "Epoch 65/100\n",
            "15/15 [==============================] - 3s 194ms/step - loss: 2.5716e-04 - val_loss: 7.1141e-04\n",
            "Epoch 66/100\n",
            "15/15 [==============================] - 3s 198ms/step - loss: 2.4877e-04 - val_loss: 0.0012\n",
            "Epoch 67/100\n",
            "15/15 [==============================] - 3s 199ms/step - loss: 2.5033e-04 - val_loss: 9.1865e-04\n",
            "Epoch 68/100\n",
            "15/15 [==============================] - 3s 194ms/step - loss: 2.1556e-04 - val_loss: 7.5547e-04\n",
            "Epoch 69/100\n",
            "15/15 [==============================] - 3s 197ms/step - loss: 2.3369e-04 - val_loss: 0.0012\n",
            "Epoch 70/100\n",
            "15/15 [==============================] - 3s 197ms/step - loss: 2.2834e-04 - val_loss: 7.8975e-04\n",
            "Epoch 71/100\n",
            "15/15 [==============================] - 3s 197ms/step - loss: 2.0902e-04 - val_loss: 6.9094e-04\n",
            "Epoch 72/100\n",
            "15/15 [==============================] - 3s 194ms/step - loss: 2.2124e-04 - val_loss: 8.2345e-04\n",
            "Epoch 73/100\n",
            "15/15 [==============================] - 3s 194ms/step - loss: 2.1435e-04 - val_loss: 7.5943e-04\n",
            "Epoch 74/100\n",
            "15/15 [==============================] - 3s 198ms/step - loss: 2.2197e-04 - val_loss: 0.0015\n",
            "Epoch 75/100\n",
            "15/15 [==============================] - 3s 194ms/step - loss: 2.2051e-04 - val_loss: 0.0010\n",
            "Epoch 76/100\n",
            "15/15 [==============================] - 3s 194ms/step - loss: 2.1549e-04 - val_loss: 0.0012\n",
            "Epoch 77/100\n",
            "15/15 [==============================] - 3s 197ms/step - loss: 2.1710e-04 - val_loss: 6.3450e-04\n",
            "Epoch 78/100\n",
            "15/15 [==============================] - 3s 198ms/step - loss: 1.9617e-04 - val_loss: 5.9514e-04\n",
            "Epoch 79/100\n",
            "15/15 [==============================] - 3s 198ms/step - loss: 1.8686e-04 - val_loss: 5.4974e-04\n",
            "Epoch 80/100\n",
            "15/15 [==============================] - 3s 197ms/step - loss: 2.0636e-04 - val_loss: 7.9132e-04\n",
            "Epoch 81/100\n",
            "15/15 [==============================] - 3s 197ms/step - loss: 1.9632e-04 - val_loss: 5.6092e-04\n",
            "Epoch 82/100\n",
            "15/15 [==============================] - 3s 196ms/step - loss: 1.9356e-04 - val_loss: 5.6142e-04\n",
            "Epoch 83/100\n",
            "15/15 [==============================] - 3s 198ms/step - loss: 1.8151e-04 - val_loss: 0.0010\n",
            "Epoch 84/100\n",
            "15/15 [==============================] - 3s 198ms/step - loss: 2.0359e-04 - val_loss: 0.0010\n",
            "Epoch 85/100\n",
            "15/15 [==============================] - 3s 203ms/step - loss: 1.9087e-04 - val_loss: 5.3041e-04\n",
            "Epoch 86/100\n",
            "15/15 [==============================] - 3s 200ms/step - loss: 1.9013e-04 - val_loss: 0.0013\n",
            "Epoch 87/100\n",
            "15/15 [==============================] - 3s 196ms/step - loss: 2.0150e-04 - val_loss: 5.9515e-04\n",
            "Epoch 88/100\n",
            "15/15 [==============================] - 3s 195ms/step - loss: 1.7438e-04 - val_loss: 0.0014\n",
            "Epoch 89/100\n",
            "15/15 [==============================] - 3s 197ms/step - loss: 1.8546e-04 - val_loss: 5.8880e-04\n",
            "Epoch 90/100\n",
            "15/15 [==============================] - 3s 197ms/step - loss: 1.8071e-04 - val_loss: 6.7560e-04\n",
            "Epoch 91/100\n",
            "15/15 [==============================] - 3s 195ms/step - loss: 1.7211e-04 - val_loss: 7.6859e-04\n",
            "Epoch 92/100\n",
            "15/15 [==============================] - 3s 197ms/step - loss: 1.7449e-04 - val_loss: 5.8015e-04\n",
            "Epoch 93/100\n",
            "15/15 [==============================] - 3s 196ms/step - loss: 1.6942e-04 - val_loss: 5.6727e-04\n",
            "Epoch 94/100\n",
            "15/15 [==============================] - 3s 197ms/step - loss: 1.6706e-04 - val_loss: 4.9118e-04\n",
            "Epoch 95/100\n",
            "15/15 [==============================] - 3s 195ms/step - loss: 1.6036e-04 - val_loss: 5.4630e-04\n",
            "Epoch 96/100\n",
            "15/15 [==============================] - 3s 200ms/step - loss: 1.5526e-04 - val_loss: 5.3418e-04\n",
            "Epoch 97/100\n",
            "15/15 [==============================] - 3s 196ms/step - loss: 1.5906e-04 - val_loss: 0.0011\n",
            "Epoch 98/100\n",
            "15/15 [==============================] - 3s 196ms/step - loss: 1.5374e-04 - val_loss: 6.2028e-04\n",
            "Epoch 99/100\n",
            "15/15 [==============================] - 3s 197ms/step - loss: 1.7582e-04 - val_loss: 4.7854e-04\n",
            "Epoch 100/100\n",
            "15/15 [==============================] - 3s 200ms/step - loss: 1.4852e-04 - val_loss: 5.9967e-04\n"
          ]
        },
        {
          "output_type": "execute_result",
          "data": {
            "text/plain": [
              "<keras.callbacks.History at 0x7f5963d9bd30>"
            ]
          },
          "metadata": {},
          "execution_count": 33
        }
      ]
    },
    {
      "cell_type": "code",
      "source": [
        "#PLotting loss, it shows that loss has decreased significantly and model trained well\n",
        "loss = model.history.history['loss']\n",
        "plt.plot(loss)"
      ],
      "metadata": {
        "colab": {
          "base_uri": "https://localhost:8080/",
          "height": 282
        },
        "id": "Os-DuYscvG5p",
        "outputId": "3a87a832-98c6-4327-bc94-e0c357e1b020"
      },
      "execution_count": 34,
      "outputs": [
        {
          "output_type": "execute_result",
          "data": {
            "text/plain": [
              "[<matplotlib.lines.Line2D at 0x7f5963cb5b50>]"
            ]
          },
          "metadata": {},
          "execution_count": 34
        },
        {
          "output_type": "display_data",
          "data": {
            "text/plain": [
              "<Figure size 432x288 with 1 Axes>"
            ],
            "image/png": "[encoded data removed]"
          },
          "metadata": {
            "needs_background": "light"
          }
        }
      ]
    },
    {
      "cell_type": "code",
      "source": [
        "#Predicitng on train and test data\n",
        "train_predict = model.predict(X_train)\n",
        "test_predict = model.predict(X_test)"
      ],
      "metadata": {
        "colab": {
          "base_uri": "https://localhost:8080/"
        },
        "id": "T6nvzTmjwZyn",
        "outputId": "4c7b7860-3ba1-44c2-e48f-51a1bf3b03d6"
      },
      "execution_count": 36,
      "outputs": [
        {
          "output_type": "stream",
          "name": "stdout",
          "text": [
            "30/30 [==============================] - 2s 35ms/step\n",
            "12/12 [==============================] - 0s 34ms/step\n"
          ]
        }
      ]
    },
    {
      "cell_type": "code",
      "source": [
        "#Inverse transform to get actual value\n",
        "train_predict = normalizer.inverse_transform(train_predict)\n",
        "test_predict = normalizer.inverse_transform(test_predict)"
      ],
      "metadata": {
        "id": "ypPQWTalwkZR"
      },
      "execution_count": 37,
      "outputs": []
    },
    {
      "cell_type": "code",
      "source": [
        "#Comparing using visuals\n",
        "plt.plot(normalizer.inverse_transform(ds_scaled))\n",
        "plt.plot(train_predict)\n",
        "plt.plot(test_predict)"
      ],
      "metadata": {
        "colab": {
          "base_uri": "https://localhost:8080/",
          "height": 282
        },
        "id": "5u0YP-RDxWR-",
        "outputId": "cf8c974e-65d6-4349-8162-410a116060a6"
      },
      "execution_count": 38,
      "outputs": [
        {
          "output_type": "execute_result",
          "data": {
            "text/plain": [
              "[<matplotlib.lines.Line2D at 0x7f59639d9340>]"
            ]
          },
          "metadata": {},
          "execution_count": 38
        },
        {
          "output_type": "display_data",
          "data": {
            "text/plain": [
              "<Figure size 432x288 with 1 Axes>"
            ],
            "image/png": "[encoded data removed]"
          },
          "metadata": {
            "needs_background": "light"
          }
        }
      ]
    },
    {
      "cell_type": "code",
      "source": [
        "type(train_predict)"
      ],
      "metadata": {
        "colab": {
          "base_uri": "https://localhost:8080/"
        },
        "id": "G6aVG2FBxfWh",
        "outputId": "b836b0bf-56e6-473c-ee77-95b75cf099f7"
      },
      "execution_count": 39,
      "outputs": [
        {
          "output_type": "execute_result",
          "data": {
            "text/plain": [
              "numpy.ndarray"
            ]
          },
          "metadata": {},
          "execution_count": 39
        }
      ]
    },
    {
      "cell_type": "code",
      "source": [
        "test = np.vstack((train_predict,test_predict))"
      ],
      "metadata": {
        "id": "ASuNOmvrx0J1"
      },
      "execution_count": 40,
      "outputs": []
    },
    {
      "cell_type": "code",
      "source": [
        "#Combining the predited data to create uniform data visualization\n",
        "plt.plot(normalizer.inverse_transform(ds_scaled))\n",
        "plt.plot(test)"
      ],
      "metadata": {
        "colab": {
          "base_uri": "https://localhost:8080/",
          "height": 282
        },
        "id": "CYQqr61ux49L",
        "outputId": "78514be8-0d4c-4fd7-9e17-468598e9df0a"
      },
      "execution_count": 41,
      "outputs": [
        {
          "output_type": "execute_result",
          "data": {
            "text/plain": [
              "[<matplotlib.lines.Line2D at 0x7f596397b670>]"
            ]
          },
          "metadata": {},
          "execution_count": 41
        },
        {
          "output_type": "display_data",
          "data": {
            "text/plain": [
              "<Figure size 432x288 with 1 Axes>"
            ],
            "image/png": "[encoded data removed]"
          },
          "metadata": {
            "needs_background": "light"
          }
        }
      ]
    },
    {
      "cell_type": "code",
      "source": [
        "len(ds_test)"
      ],
      "metadata": {
        "colab": {
          "base_uri": "https://localhost:8080/"
        },
        "id": "lVstPOzxx94S",
        "outputId": "3a6b8a25-fd1e-4934-c956-f3995d28e42e"
      },
      "execution_count": 42,
      "outputs": [
        {
          "output_type": "execute_result",
          "data": {
            "text/plain": [
              "454"
            ]
          },
          "metadata": {},
          "execution_count": 42
        }
      ]
    },
    {
      "cell_type": "code",
      "source": [
        "#Getting the last 100 days records\n",
        "fut_inp = ds_test[270:]"
      ],
      "metadata": {
        "id": "9QK0isabyCcw"
      },
      "execution_count": 44,
      "outputs": []
    },
    {
      "cell_type": "code",
      "source": [
        "fut_inp = fut_inp.reshape(1,-1)"
      ],
      "metadata": {
        "id": "AEaRInhDyIJD"
      },
      "execution_count": 45,
      "outputs": []
    },
    {
      "cell_type": "code",
      "source": [
        "tmp_inp = list(fut_inp)"
      ],
      "metadata": {
        "id": "VZ2wiOYpyMNr"
      },
      "execution_count": 46,
      "outputs": []
    },
    {
      "cell_type": "code",
      "source": [
        "fut_inp.shape"
      ],
      "metadata": {
        "colab": {
          "base_uri": "https://localhost:8080/"
        },
        "id": "URdfPqLwyWLh",
        "outputId": "d5df7fc5-929e-45b6-aafb-53d7d513e5fa"
      },
      "execution_count": 47,
      "outputs": [
        {
          "output_type": "execute_result",
          "data": {
            "text/plain": [
              "(1, 184)"
            ]
          },
          "metadata": {},
          "execution_count": 47
        }
      ]
    },
    {
      "cell_type": "code",
      "source": [
        "#Creating list of the last 100 data\n",
        "tmp_inp = tmp_inp[0].tolist()"
      ],
      "metadata": {
        "id": "s8YILcxdyhwZ"
      },
      "execution_count": 48,
      "outputs": []
    },
    {
      "cell_type": "code",
      "source": [
        "#Predicting next 30 days price suing the current data\n",
        "#It will predict in sliding window manner (algorithm) with stride 1\n",
        "lst_output=[]\n",
        "n_steps=183\n",
        "i=0\n",
        "while(i<30):\n",
        "    \n",
        "    if(len(tmp_inp)>183):\n",
        "        fut_inp = np.array(tmp_inp[1:])\n",
        "        fut_inp=fut_inp.reshape(1,-1)\n",
        "        fut_inp = fut_inp.reshape((1, n_steps, 1))\n",
        "        yhat = model.predict(fut_inp, verbose=0)\n",
        "        tmp_inp.extend(yhat[0].tolist())\n",
        "        tmp_inp = tmp_inp[1:]\n",
        "        lst_output.extend(yhat.tolist())\n",
        "        i=i+1\n",
        "    else:\n",
        "        fut_inp = fut_inp.reshape((1, n_steps,1))\n",
        "        yhat = model.predict(fut_inp, verbose=0)\n",
        "        tmp_inp.extend(yhat[0].tolist())\n",
        "        lst_output.extend(yhat.tolist())\n",
        "        i=i+1\n",
        "    \n",
        "\n",
        "print(lst_output)"
      ],
      "metadata": {
        "colab": {
          "base_uri": "https://localhost:8080/"
        },
        "id": "GsvSqORYyk7Z",
        "outputId": "b2c4e813-996c-4c14-a343-5b9fbdc32d30"
      },
      "execution_count": 74,
      "outputs": [
        {
          "output_type": "stream",
          "name": "stdout",
          "text": [
            "[[0.8215881586074829], [0.8237053751945496], [0.8259205222129822], [0.8282299637794495], [0.8306196331977844], [0.8330696225166321], [0.8355571031570435], [0.8380590081214905], [0.8405538201332092], [0.8430241942405701], [0.8454556465148926], [0.8478376269340515], [0.8501631617546082], [0.8524273037910461], [0.854627251625061], [0.8567616939544678], [0.8588294386863708], [0.8608297109603882], [0.8627619743347168], [0.864625871181488], [0.8664209246635437], [0.8681474924087524], [0.8698052763938904], [0.8713955283164978], [0.8729202747344971], [0.8743807673454285], [0.8757801055908203], [0.8771214485168457], [0.8784081339836121], [0.8796433210372925]]\n"
          ]
        }
      ]
    },
    {
      "cell_type": "code",
      "source": [
        "len(ds_scaled)"
      ],
      "metadata": {
        "colab": {
          "base_uri": "https://localhost:8080/"
        },
        "id": "YVdY7OZSypt9",
        "outputId": "9f894439-c35f-4832-edc2-f3dce41e699a"
      },
      "execution_count": 75,
      "outputs": [
        {
          "output_type": "execute_result",
          "data": {
            "text/plain": [
              "1511"
            ]
          },
          "metadata": {},
          "execution_count": 75
        }
      ]
    },
    {
      "cell_type": "code",
      "source": [
        "#Creating a dummy plane to plot graph one after another\n",
        "plot_new=np.arange(1,100)\n",
        "plot_pred=np.arange(1,183)\n",
        "plt.plot(plot_new)\n",
        "plt.ylabel(\"Price\")\n",
        "plt.xlabel(\"Time\")\n",
        "plt.title(\"{0} prediction of one month open\".format(stock_symbol))\n",
        "plt.axhline(y=plot_pred[len(plot_pred)-1],linestyle = ':', label = 'NEXT 30D: {0}'.format(round(float(plot_pred[len(plot_pred)-1]),2)))\n",
        "plt.legend()\n",
        "\n"
      ],
      "metadata": {
        "colab": {
          "base_uri": "https://localhost:8080/",
          "height": 312
        },
        "id": "xk-9GuB3znZr",
        "outputId": "c48e2a65-0b41-4d2d-8ac4-75d10b24f5ac"
      },
      "execution_count": 92,
      "outputs": [
        {
          "output_type": "execute_result",
          "data": {
            "text/plain": [
              "<matplotlib.legend.Legend at 0x7f5960d6f700>"
            ]
          },
          "metadata": {},
          "execution_count": 92
        },
        {
          "output_type": "display_data",
          "data": {
            "text/plain": [
              "<Figure size 432x288 with 1 Axes>"
            ],
            "image/png": "[encoded data removed]"
          },
          "metadata": {
            "needs_background": "light"
          }
        }
      ]
    },
    {
      "cell_type": "code",
      "source": [
        "ds_new = ds_scaled.tolist()"
      ],
      "metadata": {
        "id": "dnSTQ9iCz7JF"
      },
      "execution_count": 58,
      "outputs": []
    },
    {
      "cell_type": "code",
      "source": [
        "len(ds_new)"
      ],
      "metadata": {
        "colab": {
          "base_uri": "https://localhost:8080/"
        },
        "id": "W-yBW6_H2gqb",
        "outputId": "febb929c-9096-4495-ccfb-7306cc42c449"
      },
      "execution_count": 59,
      "outputs": [
        {
          "output_type": "execute_result",
          "data": {
            "text/plain": [
              "1511"
            ]
          },
          "metadata": {},
          "execution_count": 59
        }
      ]
    },
    {
      "cell_type": "code",
      "source": [
        "#Entends helps us to fill the missing value with approx value\n",
        "ds_new.extend(lst_output)\n",
        "plt.plot(ds_new[1500:])"
      ],
      "metadata": {
        "colab": {
          "base_uri": "https://localhost:8080/",
          "height": 282
        },
        "id": "5CIPo0gN2j1O",
        "outputId": "e728559f-c95e-4418-ac3c-f9b82a6526d7"
      },
      "execution_count": 60,
      "outputs": [
        {
          "output_type": "execute_result",
          "data": {
            "text/plain": [
              "[<matplotlib.lines.Line2D at 0x7f59635d3ac0>]"
            ]
          },
          "metadata": {},
          "execution_count": 60
        },
        {
          "output_type": "display_data",
          "data": {
            "text/plain": [
              "<Figure size 432x288 with 1 Axes>"
            ],
            "image/png": "[encoded data removed]"
          },
          "metadata": {
            "needs_background": "light"
          }
        }
      ]
    },
    {
      "cell_type": "code",
      "source": [
        "#Creating final data for plotting\n",
        "final_graph = normalizer.inverse_transform(ds_new).tolist()"
      ],
      "metadata": {
        "id": "IKprqbMk2p9j"
      },
      "execution_count": 61,
      "outputs": []
    },
    {
      "cell_type": "code",
      "source": [
        "#Plotting final results with predicted value after 30 Days\n",
        "plt.plot(final_graph,)\n",
        "plt.ylabel(\"Price\")\n",
        "plt.xlabel(\"Time\")\n",
        "plt.title(\"{0} prediction of next month open\".format(stock_symbol))\n",
        "plt.axhline(y=final_graph[len(final_graph)-1], color = 'red', linestyle = ':', label = 'NEXT 30D: {0}'.format(round(float(*final_graph[len(final_graph)-1]),2)))\n",
        "plt.legend()\n"
      ],
      "metadata": {
        "colab": {
          "base_uri": "https://localhost:8080/",
          "height": 312
        },
        "id": "gzxxU1pn22Br",
        "outputId": "0afb1608-0c97-4a09-d9f0-9542df07a953"
      },
      "execution_count": 71,
      "outputs": [
        {
          "output_type": "execute_result",
          "data": {
            "text/plain": [
              "<matplotlib.legend.Legend at 0x7f595e104910>"
            ]
          },
          "metadata": {},
          "execution_count": 71
        },
        {
          "output_type": "display_data",
          "data": {
            "text/plain": [
              "<Figure size 432x288 with 1 Axes>"
            ],
            "image/png": "[encoded data removed]"
          },
          "metadata": {
            "needs_background": "light"
          }
        }
      ]
    },
    {
      "cell_type": "code",
      "source": [],
      "metadata": {
        "id": "9pF78PoP26Ii"
      },
      "execution_count": null,
      "outputs": []
    }
  ]
}